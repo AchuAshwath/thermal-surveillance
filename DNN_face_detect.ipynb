{
 "cells": [
  {
   "cell_type": "code",
   "execution_count": 2,
   "metadata": {},
   "outputs": [
    {
     "name": "stdout",
     "output_type": "stream",
     "text": [
      "[{'start': (279, 170), 'end': (471, 407), 'confidence': 0.9999989}]\n",
      "[{'start': (280, 171), 'end': (471, 409), 'confidence': 0.99999857}]\n",
      "[{'start': (280, 170), 'end': (471, 409), 'confidence': 0.9999987}]\n",
      "[{'start': (280, 172), 'end': (472, 410), 'confidence': 0.99999845}]\n",
      "[{'start': (281, 170), 'end': (472, 410), 'confidence': 0.999998}]\n",
      "[{'start': (280, 170), 'end': (472, 410), 'confidence': 0.9999987}]\n",
      "[{'start': (275, 174), 'end': (472, 416), 'confidence': 0.99999654}]\n",
      "[{'start': (274, 175), 'end': (471, 416), 'confidence': 0.99999595}]\n",
      "[{'start': (271, 175), 'end': (468, 418), 'confidence': 0.99999106}]\n",
      "[{'start': (265, 178), 'end': (461, 421), 'confidence': 0.9999682}]\n",
      "[{'start': (264, 175), 'end': (459, 422), 'confidence': 0.99996626}]\n",
      "[{'start': (262, 176), 'end': (458, 425), 'confidence': 0.9998605}]\n",
      "[{'start': (259, 188), 'end': (453, 433), 'confidence': 0.99983203}]\n",
      "[{'start': (257, 186), 'end': (453, 431), 'confidence': 0.99970007}]\n",
      "[{'start': (256, 179), 'end': (453, 426), 'confidence': 0.99951863}]\n",
      "[{'start': (256, 177), 'end': (451, 425), 'confidence': 0.99942255}]\n",
      "[{'start': (259, 176), 'end': (453, 423), 'confidence': 0.99977547}]\n",
      "[{'start': (261, 174), 'end': (453, 424), 'confidence': 0.9998783}]\n",
      "[{'start': (261, 174), 'end': (452, 420), 'confidence': 0.9999156}]\n",
      "[{'start': (260, 176), 'end': (452, 421), 'confidence': 0.99987626}]\n",
      "[{'start': (260, 177), 'end': (452, 422), 'confidence': 0.9997738}]\n",
      "[{'start': (260, 177), 'end': (452, 423), 'confidence': 0.9996599}]\n",
      "[{'start': (258, 176), 'end': (452, 422), 'confidence': 0.99962115}]\n",
      "[{'start': (253, 176), 'end': (449, 422), 'confidence': 0.99938893}]\n",
      "[{'start': (253, 175), 'end': (449, 420), 'confidence': 0.9995153}]\n",
      "[{'start': (253, 173), 'end': (449, 419), 'confidence': 0.9995927}]\n"
     ]
    }
   ],
   "source": [
    "import cv2\n",
    "import numpy as np\n",
    "import face_detection.face_detection as face_detection\n",
    "import os\n",
    "import sys\n",
    "\n",
    "def Image(path):\n",
    "\tface_detector = face_detection.FaceDetector()\n",
    "\tframe = cv2.imread(path)\n",
    "\tannotated_frame = face_detector.draw(frame)\n",
    "\tcv2.imshow('faces',annotated_frame)\n",
    "\tcv2.waitKey(0)\n",
    "\n",
    "def Video():\n",
    "\tface_detector = face_detection.FaceDetector()\n",
    "\tcap = cv2.VideoCapture(0)\n",
    "\twhile not cap.isOpened():\n",
    "\t\tcap = cv2.VideoCapture(0)\n",
    "\t\tcv2.waitKey(1000)\n",
    "\tlabel = ''\n",
    "\tcntr = 1\n",
    "\twhile True:\n",
    "\t\tflag, frame = cap.read()\n",
    "\t\tif flag:\n",
    "\t\t\t#frame = cv2.flip(frame,1)\n",
    "\t\t\t\n",
    "\t\t\tannotated_frame = face_detector.draw(frame)\n",
    "\t\t\tcv2.imshow('camera_feed',annotated_frame)\n",
    "\t\t\t#cv2.imshow('input',frame[100:300,400:600])\n",
    "\t\t\t\n",
    "\t\telse:\n",
    "\t\t\tcv2.waitKey(1000)\n",
    "\t\tk = cv2.waitKey(5)\n",
    "\t\tif k == 27:\n",
    "\t\t\tbreak\n",
    "\n",
    "if __name__ == \"__main__\":\n",
    "\tVideo()\n",
    "\tcv2.destroyAllWindows()\n"
   ]
  },
  {
   "cell_type": "code",
   "execution_count": null,
   "metadata": {},
   "outputs": [],
   "source": []
  }
 ],
 "metadata": {
  "kernelspec": {
   "display_name": "Python 3.10.5 ('env')",
   "language": "python",
   "name": "python3"
  },
  "language_info": {
   "codemirror_mode": {
    "name": "ipython",
    "version": 3
   },
   "file_extension": ".py",
   "mimetype": "text/x-python",
   "name": "python",
   "nbconvert_exporter": "python",
   "pygments_lexer": "ipython3",
   "version": "3.10.5"
  },
  "orig_nbformat": 4,
  "vscode": {
   "interpreter": {
    "hash": "48a568ea9599ca3bb77ef6ef97d309ba6907d878e39734d2330d7e905c16ba69"
   }
  }
 },
 "nbformat": 4,
 "nbformat_minor": 2
}
